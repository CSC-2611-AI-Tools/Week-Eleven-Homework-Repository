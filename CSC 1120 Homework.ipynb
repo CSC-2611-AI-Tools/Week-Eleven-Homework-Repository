{
 "cells": [
  {
   "cell_type": "code",
   "execution_count": 17,
   "id": "05413ef1-e845-4b98-bdcd-c11f4cb0ca54",
   "metadata": {},
   "outputs": [],
   "source": [
    "import numpy as np"
   ]
  },
  {
   "cell_type": "code",
   "execution_count": 18,
   "id": "1ccf12cb-462a-4a7f-9ea8-fa75c148b5b2",
   "metadata": {},
   "outputs": [],
   "source": [
    "def sigmoid(x):\n",
    "    result = 1 / (1 + np.exp(-x))\n",
    "    return result"
   ]
  },
  {
   "cell_type": "code",
   "execution_count": 19,
   "id": "6c4c31da-c286-4b98-85d7-4f94d3eba68a",
   "metadata": {},
   "outputs": [],
   "source": [
    "input_vector = np.array([[0.4, 0.5]])"
   ]
  },
  {
   "cell_type": "code",
   "execution_count": 20,
   "id": "69ff96d0-34ed-4808-b823-380ee2f7a239",
   "metadata": {},
   "outputs": [],
   "source": [
    "input_one = 0.4\n",
    "input_two = 0.5\n",
    "weight_one = 1\n",
    "weight_two = 0.3\n",
    "weight_three = 0.4\n",
    "weight_four = -2\n",
    "bias_one = -2\n",
    "bias_two = 1"
   ]
  },
  {
   "cell_type": "code",
   "execution_count": 21,
   "id": "e12c45ef-76de-4140-9cb5-99b3f804d140",
   "metadata": {},
   "outputs": [],
   "source": [
    "# the hidden layer inputs\n",
    "hidden_layer_one = (input_one * weight_one) + (input_two * weight_three) + bias_one\n",
    "hidden_layer_two = (input_one * weight_two) + (input_two * weight_four) + bias_one\n",
    "\n",
    "# the hidden layer outputs\n",
    "hidden_layer_output_one = sigmoid(hidden_layer_one)\n",
    "hidden_layer_output_two = sigmoid(hidden_layer_two)"
   ]
  },
  {
   "cell_type": "code",
   "execution_count": 22,
   "id": "46d76280-2edf-4bc2-97aa-5c9b8ccef430",
   "metadata": {},
   "outputs": [],
   "source": [
    "weight_five = -1\n",
    "weight_six = 2\n",
    "bias_three = 0.8"
   ]
  },
  {
   "cell_type": "code",
   "execution_count": 23,
   "id": "849032f3-d95e-4338-867e-ba810c873385",
   "metadata": {},
   "outputs": [
    {
     "name": "stdout",
     "output_type": "stream",
     "text": [
      "0.6700665705603333\n"
     ]
    }
   ],
   "source": [
    "output_layer_input = (hidden_layer_output_one * weight_five) + (hidden_layer_output_two * weight_six) + bias_three\n",
    "output_layer_output = sigmoid(output_layer_input)\n",
    "print(output_layer_output)"
   ]
  },
  {
   "cell_type": "code",
   "execution_count": null,
   "id": "5a3f17bc-30be-43d5-8b4a-026de88b2eec",
   "metadata": {},
   "outputs": [],
   "source": []
  }
 ],
 "metadata": {
  "kernelspec": {
   "display_name": "Python 3 (ipykernel)",
   "language": "python",
   "name": "python3"
  },
  "language_info": {
   "codemirror_mode": {
    "name": "ipython",
    "version": 3
   },
   "file_extension": ".py",
   "mimetype": "text/x-python",
   "name": "python",
   "nbconvert_exporter": "python",
   "pygments_lexer": "ipython3",
   "version": "3.11.9"
  }
 },
 "nbformat": 4,
 "nbformat_minor": 5
}
